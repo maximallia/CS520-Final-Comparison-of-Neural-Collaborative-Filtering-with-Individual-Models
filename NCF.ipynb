{
  "nbformat": 4,
  "nbformat_minor": 0,
  "metadata": {
    "colab": {
      "name": "NCF.ipynb",
      "provenance": [],
      "collapsed_sections": []
    },
    "kernelspec": {
      "name": "python3",
      "display_name": "Python 3"
    },
    "language_info": {
      "name": "python"
    }
  },
  "cells": [
    {
      "cell_type": "code",
      "execution_count": 1,
      "metadata": {
        "id": "TQRgnTz-qjlJ"
      },
      "outputs": [],
      "source": [
        "\n",
        "\n",
        "import pandas as pd\n",
        "import numpy as np\n",
        "from sklearn.model_selection import train_test_split\n",
        "\n",
        "\n",
        "\n",
        "dataset = pd.read_csv('/content/drive/MyDrive/CS550 final project/final proj code/small data/ratings.csv', header=0, names=['user_id', 'movie_id', 'rating', 'timestamp'])\n",
        "#train = pd.read_csv('/content/drive/MyDrive/CS550 final project/final proj code/train_data.csv', header=0, names=['user_id', 'movie_id', 'rating', 'timestamp', 'title', 'genres'])\n",
        "#test = pd.read_csv('/content/drive/MyDrive/CS550 final project/final proj code/test_data.csv', header=0, names=['user_id', 'movie_id', 'rating', 'timestamp', 'title', 'genres'])\n",
        "\n",
        "\n",
        "# map movie ID to [1, num_movies]\n",
        "movie_id_to_new_id = dict()\n",
        "idex = 1\n",
        "for index, row in dataset.iterrows():\n",
        "    \n",
        "    if movie_id_to_new_id.get(row['movie_id']): #not none\n",
        "        dataset.at[index, 'movie_id'] = movie_id_to_new_id.get(row['movie_id'])\n",
        "    else: #none, init\n",
        "        movie_id_to_new_id[row['movie_id']] = idex\n",
        "        dataset.at[index, 'movie_id'] = idex\n",
        "        idex += 1\n",
        "\n",
        "num_users = len(dataset.user_id.unique())\n",
        "num_movies = len(dataset.movie_id.unique())\n",
        "\n",
        "\n",
        "train, test = train_test_split(dataset, test_size=0.2)\n"
      ]
    },
    {
      "cell_type": "code",
      "source": [
        "print(len(dataset))\n",
        "print(num_users)\n",
        "print(num_movies)"
      ],
      "metadata": {
        "colab": {
          "base_uri": "https://localhost:8080/"
        },
        "id": "Heo9iXMjZD6l",
        "outputId": "77aeae3b-dc42-4995-dd95-90fea88c8df8"
      },
      "execution_count": 2,
      "outputs": [
        {
          "output_type": "stream",
          "name": "stdout",
          "text": [
            "100836\n",
            "610\n",
            "9724\n"
          ]
        }
      ]
    },
    {
      "cell_type": "markdown",
      "source": [
        "## GMF (General Matrix Factorization) LAYER"
      ],
      "metadata": {
        "id": "HPimUlBt3S4N"
      }
    },
    {
      "cell_type": "code",
      "source": [
        "from keras.models import Model, Sequential\n",
        "from keras.layers import Embedding, Flatten, Input, add, concatenate, Dropout, Dense, BatchNormalization\n",
        "from tensorflow.python.keras.layers import Dense\n",
        "\n",
        "\n",
        "import tensorflow as tf"
      ],
      "metadata": {
        "id": "8YpbEvK0_PXd"
      },
      "execution_count": 3,
      "outputs": []
    },
    {
      "cell_type": "code",
      "source": [
        "\n",
        "\n",
        "gmf_latent_dim = 10\n",
        "\n",
        "movie_input = Input(shape=[1],name='movie-input')\n",
        "\n",
        "user_input = Input(shape=[1],name='user-input')\n",
        "\n",
        "\n",
        "\n",
        "# MF Embeddings\n",
        "movie_embedding_mf = Embedding(num_movies + 1, gmf_latent_dim, name='movie-embedding-mf')(movie_input)\n",
        "movie_vec_mf = Flatten(name='flatten-movie-mf')(movie_embedding_mf)\n",
        "#movie_vec_mf = Dropout(0.2)(movie_vec_mf)\n",
        "\n",
        "user_embedding_mf = Embedding(num_users + 1, gmf_latent_dim, name='user-embedding-mf')(user_input)\n",
        "user_vec_mf = Flatten(name='flatten-user-mf')(user_embedding_mf)\n",
        "#user_vec_mf = Dropout(0.2)(user_vec_mf)\n",
        "\n",
        "\n",
        "dotted = tf.keras.layers.dot([movie_vec_mf, user_vec_mf], axes=-1, name='DotProduct')\n",
        "model = Model([user_input, movie_input], dotted)\n",
        "\n",
        "# compile and moniter error type mae and mse\n",
        "model.compile('adam', loss='mean_squared_error', metrics=['mae', 'mse'])\n"
      ],
      "metadata": {
        "id": "4kvjbLKdrcny"
      },
      "execution_count": 4,
      "outputs": []
    },
    {
      "cell_type": "code",
      "source": [
        "model.summary()"
      ],
      "metadata": {
        "colab": {
          "base_uri": "https://localhost:8080/"
        },
        "id": "uhF_8VCGrfZ_",
        "outputId": "89b2ef19-53d6-463c-bc0d-5adf4020a2eb"
      },
      "execution_count": 5,
      "outputs": [
        {
          "output_type": "stream",
          "name": "stdout",
          "text": [
            "Model: \"model\"\n",
            "__________________________________________________________________________________________________\n",
            " Layer (type)                   Output Shape         Param #     Connected to                     \n",
            "==================================================================================================\n",
            " movie-input (InputLayer)       [(None, 1)]          0           []                               \n",
            "                                                                                                  \n",
            " user-input (InputLayer)        [(None, 1)]          0           []                               \n",
            "                                                                                                  \n",
            " movie-embedding-mf (Embedding)  (None, 1, 10)       97250       ['movie-input[0][0]']            \n",
            "                                                                                                  \n",
            " user-embedding-mf (Embedding)  (None, 1, 10)        6110        ['user-input[0][0]']             \n",
            "                                                                                                  \n",
            " flatten-movie-mf (Flatten)     (None, 10)           0           ['movie-embedding-mf[0][0]']     \n",
            "                                                                                                  \n",
            " flatten-user-mf (Flatten)      (None, 10)           0           ['user-embedding-mf[0][0]']      \n",
            "                                                                                                  \n",
            " DotProduct (Dot)               (None, 1)            0           ['flatten-movie-mf[0][0]',       \n",
            "                                                                  'flatten-user-mf[0][0]']        \n",
            "                                                                                                  \n",
            "==================================================================================================\n",
            "Total params: 103,360\n",
            "Trainable params: 103,360\n",
            "Non-trainable params: 0\n",
            "__________________________________________________________________________________________________\n"
          ]
        }
      ]
    },
    {
      "cell_type": "code",
      "source": [
        "\n",
        "from sklearn.metrics import mean_absolute_error\n",
        "\n",
        "# epochs 5 and 15 do not produce better results, 10 does\n",
        "history = model.fit([train.user_id, train.movie_id], train.rating, epochs=10)\n",
        "\n",
        "\n",
        "gmf_pred = model.predict([test.user_id, test.movie_id])\n",
        "gmf_true = test.rating\n"
      ],
      "metadata": {
        "colab": {
          "base_uri": "https://localhost:8080/"
        },
        "id": "m22vydpDspXU",
        "outputId": "90cbf4ed-3c8b-40c6-a8db-33fb77ce6364"
      },
      "execution_count": 6,
      "outputs": [
        {
          "output_type": "stream",
          "name": "stdout",
          "text": [
            "Epoch 1/10\n",
            "2521/2521 [==============================] - 15s 5ms/step - loss: 10.8510 - mae: 3.0763 - mse: 10.8510\n",
            "Epoch 2/10\n",
            "2521/2521 [==============================] - 7s 3ms/step - loss: 3.5108 - mae: 1.5149 - mse: 3.5108\n",
            "Epoch 3/10\n",
            "2521/2521 [==============================] - 7s 3ms/step - loss: 1.8719 - mae: 1.0419 - mse: 1.8719\n",
            "Epoch 4/10\n",
            "2521/2521 [==============================] - 7s 3ms/step - loss: 1.3252 - mae: 0.8624 - mse: 1.3252\n",
            "Epoch 5/10\n",
            "2521/2521 [==============================] - 7s 3ms/step - loss: 1.0712 - mae: 0.7760 - mse: 1.0712\n",
            "Epoch 6/10\n",
            "2521/2521 [==============================] - 7s 3ms/step - loss: 0.9327 - mae: 0.7282 - mse: 0.9327\n",
            "Epoch 7/10\n",
            "2521/2521 [==============================] - 7s 3ms/step - loss: 0.8478 - mae: 0.6986 - mse: 0.8478\n",
            "Epoch 8/10\n",
            "2521/2521 [==============================] - 7s 3ms/step - loss: 0.7909 - mae: 0.6788 - mse: 0.7909\n",
            "Epoch 9/10\n",
            "2521/2521 [==============================] - 7s 3ms/step - loss: 0.7507 - mae: 0.6633 - mse: 0.7507\n",
            "Epoch 10/10\n",
            "2521/2521 [==============================] - 7s 3ms/step - loss: 0.7196 - mae: 0.6500 - mse: 0.7196\n"
          ]
        }
      ]
    },
    {
      "cell_type": "code",
      "source": [
        "mean_absolute_error(gmf_true, gmf_pred)"
      ],
      "metadata": {
        "colab": {
          "base_uri": "https://localhost:8080/"
        },
        "id": "AaSpDmXzxcjl",
        "outputId": "6fc805e4-024c-4845-e198-1b2fe90a263a"
      },
      "execution_count": 7,
      "outputs": [
        {
          "output_type": "execute_result",
          "data": {
            "text/plain": [
              "0.7834510124548488"
            ]
          },
          "metadata": {},
          "execution_count": 7
        }
      ]
    },
    {
      "cell_type": "code",
      "source": [
        "from sklearn.metrics import mean_squared_error\n",
        "from sklearn.metrics import mean_absolute_error\n"
      ],
      "metadata": {
        "id": "7JYn7K02xgWF"
      },
      "execution_count": 8,
      "outputs": []
    },
    {
      "cell_type": "code",
      "source": [
        "mae = mean_absolute_error(gmf_true, gmf_pred)\n",
        "rms = mean_squared_error(gmf_true, gmf_pred, squared=False)\n",
        "print(mae)\n",
        "print(rms)"
      ],
      "metadata": {
        "colab": {
          "base_uri": "https://localhost:8080/"
        },
        "id": "Wipub6Z36M86",
        "outputId": "8da9f8ce-60b3-4c1d-fd7f-e21460006a30"
      },
      "execution_count": 9,
      "outputs": [
        {
          "output_type": "stream",
          "name": "stdout",
          "text": [
            "0.7834510124548488\n",
            "1.110617256259809\n"
          ]
        }
      ]
    },
    {
      "cell_type": "code",
      "source": [
        "GMF_pred = gmf_pred"
      ],
      "metadata": {
        "id": "VZNXZbdPrWp2"
      },
      "execution_count": 10,
      "outputs": []
    },
    {
      "cell_type": "code",
      "source": [
        "print(len(gmf_pred))"
      ],
      "metadata": {
        "colab": {
          "base_uri": "https://localhost:8080/"
        },
        "id": "0qpYIKzHybWh",
        "outputId": "5aac8c87-7d1a-4c69-91cf-c4308cd9a2a0"
      },
      "execution_count": 11,
      "outputs": [
        {
          "output_type": "stream",
          "name": "stdout",
          "text": [
            "20168\n"
          ]
        }
      ]
    },
    {
      "cell_type": "markdown",
      "source": [
        "## MLP (Multi-Layer Perceptron) Layer APPLICATION IN NCF\n"
      ],
      "metadata": {
        "id": "EfsjYJ9F3YGt"
      }
    },
    {
      "cell_type": "code",
      "source": [
        "from keras.models import Model, Sequential\n",
        "from keras.layers import Embedding, Flatten, Input, add, concatenate, Dropout, Dense, BatchNormalization\n",
        "\n",
        "movie_latent_dim = 10\n",
        "user_latent_dim = 10\n",
        "gmf_latent_dim = 10\n",
        "\n",
        "# Define inputs\n",
        "movie_input = Input(shape=[1],name='movie-input')\n",
        "user_input = Input(shape=[1], name='user-input')\n",
        "\n",
        "# MLP Embeddings\n",
        "movie_embedding_mlp = Embedding(num_movies + 1, movie_latent_dim, name='movie_id-mlp')(movie_input)\n",
        "movie_vec_mlp = Flatten(name='flatten-movie-mlp')(movie_embedding_mlp)\n",
        "\n",
        "user_embedding_mlp = Embedding(num_users + 1, user_latent_dim, name='user-id-mlp')(user_input)\n",
        "user_vec_mlp = Flatten(name='flatten-user-mlp')(user_embedding_mlp)\n",
        "\n",
        "# MF Embeddings\n",
        "movie_embedding_mf = Embedding(num_movies + 1, gmf_latent_dim, name='movie-embedding-mf')(movie_input)\n",
        "movie_vec_mf = Flatten(name='flatten-movie-mf')(movie_embedding_mf)\n",
        "movie_vec_mf = Dropout(0.2)(movie_vec_mf)\n",
        "\n",
        "user_embedding_mf = Embedding(num_users + 1, gmf_latent_dim, name='user-embedding-mf')(user_input)\n",
        "user_vec_mf = Flatten(name='flatten-user-mf')(user_embedding_mf)\n",
        "user_vec_mf = Dropout(0.2)(user_vec_mf)\n",
        "\n",
        "\n",
        "# MLP layers (decrease density)\n",
        "concat = concatenate([movie_vec_mlp, user_vec_mlp])\n",
        "concat_dropout = Dropout(0.2)(concat)\n",
        "#layer 1\n",
        "fc_1 = Dense(120, name='fc-1', activation='relu')(concat_dropout)\n",
        "fc_1_bn = BatchNormalization(name='batch-norm-1')(fc_1)\n",
        "fc_1_dropout = Dropout(0.2)(fc_1_bn)\n",
        "#layer 2\n",
        "fc_2 = Dense(75, name='fc-2', activation='relu')(fc_1_dropout)\n",
        "fc_2_bn = BatchNormalization(name='batch-norm-2')(fc_2)\n",
        "fc_2_dropout = Dropout(0.2)(fc_2_bn)\n",
        "\n",
        "\n",
        "# layer 3\n",
        "fc_3 = Dense(50, name='fc-3', activation='relu')(fc_2_dropout)\n",
        "#fc_3_bn = BatchNormalization(name='batch-norm-3')(fc_3)\n",
        "#fc_3_dropout = Dropout(0.2)(fc_3_bn)\n",
        "\n",
        "# layer 4\n",
        "fc_4 = Dense(20, name='fc-4', activation='relu')(fc_3)\n",
        "#fc_4_bn = BatchNormalization(name='batch-norm-4')(fc_4)\n",
        "#fc_4_dropout = Dropout(0.2)(fc_4_bn)\n",
        "\n",
        "# Prediction from both layers\n",
        "# ncf_layer result\n",
        "ncf_pred = Dense(1, name='NCF-pred', activation='relu')(fc_4)\n",
        "# from MF section, the MF layer's result\n",
        "dotted = tf.keras.layers.dot([movie_vec_mf, user_vec_mf], axes=1, normalize=False, name='DotProduct')\n",
        "\n",
        "# combine results\n",
        "combine_mlp_mf = concatenate([dotted, ncf_pred], axis=-1)\n",
        "\n",
        "result_combine = Dense(100, name='combine-mf-mlp')(combine_mlp_mf)\n",
        "deep_combine = Dense(100, name='fully-connected-1')(result_combine)\n",
        "\n",
        "# Final prediction\n",
        "#result = Dense(1, name='result', activation='relu')(combine_mlp_mf)\n",
        "result = Dense(1, name='result', activation='relu')(deep_combine)\n",
        "\n",
        "model = Model([user_input, movie_input], result)\n",
        "#learn rate of 0.01\n",
        "model.compile(optimizer=tf.keras.optimizers.Adam(learning_rate=0.01), loss='mean_absolute_error', metrics=['mae', 'mse'])"
      ],
      "metadata": {
        "id": "O9DoHnXMy1Uz"
      },
      "execution_count": 12,
      "outputs": []
    },
    {
      "cell_type": "code",
      "source": [
        "model.summary()"
      ],
      "metadata": {
        "colab": {
          "base_uri": "https://localhost:8080/"
        },
        "id": "wVJXiCy63mEL",
        "outputId": "93b3c2c6-a808-4b0a-de5c-f1979c32e702"
      },
      "execution_count": 13,
      "outputs": [
        {
          "output_type": "stream",
          "name": "stdout",
          "text": [
            "Model: \"model_1\"\n",
            "__________________________________________________________________________________________________\n",
            " Layer (type)                   Output Shape         Param #     Connected to                     \n",
            "==================================================================================================\n",
            " movie-input (InputLayer)       [(None, 1)]          0           []                               \n",
            "                                                                                                  \n",
            " user-input (InputLayer)        [(None, 1)]          0           []                               \n",
            "                                                                                                  \n",
            " movie_id-mlp (Embedding)       (None, 1, 10)        97250       ['movie-input[0][0]']            \n",
            "                                                                                                  \n",
            " user-id-mlp (Embedding)        (None, 1, 10)        6110        ['user-input[0][0]']             \n",
            "                                                                                                  \n",
            " flatten-movie-mlp (Flatten)    (None, 10)           0           ['movie_id-mlp[0][0]']           \n",
            "                                                                                                  \n",
            " flatten-user-mlp (Flatten)     (None, 10)           0           ['user-id-mlp[0][0]']            \n",
            "                                                                                                  \n",
            " concatenate (Concatenate)      (None, 20)           0           ['flatten-movie-mlp[0][0]',      \n",
            "                                                                  'flatten-user-mlp[0][0]']       \n",
            "                                                                                                  \n",
            " dropout_2 (Dropout)            (None, 20)           0           ['concatenate[0][0]']            \n",
            "                                                                                                  \n",
            " fc-1 (Dense)                   (None, 120)          2520        ['dropout_2[0][0]']              \n",
            "                                                                                                  \n",
            " batch-norm-1 (BatchNormalizati  (None, 120)         480         ['fc-1[0][0]']                   \n",
            " on)                                                                                              \n",
            "                                                                                                  \n",
            " dropout_3 (Dropout)            (None, 120)          0           ['batch-norm-1[0][0]']           \n",
            "                                                                                                  \n",
            " fc-2 (Dense)                   (None, 75)           9075        ['dropout_3[0][0]']              \n",
            "                                                                                                  \n",
            " batch-norm-2 (BatchNormalizati  (None, 75)          300         ['fc-2[0][0]']                   \n",
            " on)                                                                                              \n",
            "                                                                                                  \n",
            " movie-embedding-mf (Embedding)  (None, 1, 10)       97250       ['movie-input[0][0]']            \n",
            "                                                                                                  \n",
            " user-embedding-mf (Embedding)  (None, 1, 10)        6110        ['user-input[0][0]']             \n",
            "                                                                                                  \n",
            " dropout_4 (Dropout)            (None, 75)           0           ['batch-norm-2[0][0]']           \n",
            "                                                                                                  \n",
            " flatten-movie-mf (Flatten)     (None, 10)           0           ['movie-embedding-mf[0][0]']     \n",
            "                                                                                                  \n",
            " flatten-user-mf (Flatten)      (None, 10)           0           ['user-embedding-mf[0][0]']      \n",
            "                                                                                                  \n",
            " fc-3 (Dense)                   (None, 50)           3800        ['dropout_4[0][0]']              \n",
            "                                                                                                  \n",
            " dropout (Dropout)              (None, 10)           0           ['flatten-movie-mf[0][0]']       \n",
            "                                                                                                  \n",
            " dropout_1 (Dropout)            (None, 10)           0           ['flatten-user-mf[0][0]']        \n",
            "                                                                                                  \n",
            " fc-4 (Dense)                   (None, 20)           1020        ['fc-3[0][0]']                   \n",
            "                                                                                                  \n",
            " DotProduct (Dot)               (None, 1)            0           ['dropout[0][0]',                \n",
            "                                                                  'dropout_1[0][0]']              \n",
            "                                                                                                  \n",
            " NCF-pred (Dense)               (None, 1)            21          ['fc-4[0][0]']                   \n",
            "                                                                                                  \n",
            " concatenate_1 (Concatenate)    (None, 2)            0           ['DotProduct[0][0]',             \n",
            "                                                                  'NCF-pred[0][0]']               \n",
            "                                                                                                  \n",
            " combine-mf-mlp (Dense)         (None, 100)          300         ['concatenate_1[0][0]']          \n",
            "                                                                                                  \n",
            " fully-connected-1 (Dense)      (None, 100)          10100       ['combine-mf-mlp[0][0]']         \n",
            "                                                                                                  \n",
            " result (Dense)                 (None, 1)            101         ['fully-connected-1[0][0]']      \n",
            "                                                                                                  \n",
            "==================================================================================================\n",
            "Total params: 234,437\n",
            "Trainable params: 234,047\n",
            "Non-trainable params: 390\n",
            "__________________________________________________________________________________________________\n"
          ]
        }
      ]
    },
    {
      "cell_type": "code",
      "source": [
        "\n",
        "\n",
        "history = model.fit([train.user_id, train.movie_id], train.rating, epochs=10)\n",
        "\n",
        "ncf_pred = model.predict([test.user_id, test.movie_id])\n",
        "ncf_true = test.rating\n"
      ],
      "metadata": {
        "colab": {
          "base_uri": "https://localhost:8080/"
        },
        "id": "KyFrab4t4tQF",
        "outputId": "69ef4769-450f-411a-8a82-7599808e30fc"
      },
      "execution_count": 14,
      "outputs": [
        {
          "output_type": "stream",
          "name": "stdout",
          "text": [
            "Epoch 1/10\n",
            "2521/2521 [==============================] - 18s 6ms/step - loss: 0.8493 - mae: 0.8493 - mse: 1.1777\n",
            "Epoch 2/10\n",
            "2521/2521 [==============================] - 16s 7ms/step - loss: 0.8408 - mae: 0.8408 - mse: 1.1528\n",
            "Epoch 3/10\n",
            "2521/2521 [==============================] - 16s 6ms/step - loss: 0.8384 - mae: 0.8384 - mse: 1.1444\n",
            "Epoch 4/10\n",
            "2521/2521 [==============================] - 15s 6ms/step - loss: 0.8379 - mae: 0.8379 - mse: 1.1381\n",
            "Epoch 5/10\n",
            "2521/2521 [==============================] - 16s 6ms/step - loss: 0.8117 - mae: 0.8117 - mse: 1.0888\n",
            "Epoch 6/10\n",
            "2521/2521 [==============================] - 16s 6ms/step - loss: 0.7223 - mae: 0.7223 - mse: 0.9035\n",
            "Epoch 7/10\n",
            "2521/2521 [==============================] - 15s 6ms/step - loss: 0.6639 - mae: 0.6639 - mse: 0.7778\n",
            "Epoch 8/10\n",
            "2521/2521 [==============================] - 14s 6ms/step - loss: 0.6374 - mae: 0.6374 - mse: 0.7191\n",
            "Epoch 9/10\n",
            "2521/2521 [==============================] - 16s 6ms/step - loss: 0.6169 - mae: 0.6169 - mse: 0.6814\n",
            "Epoch 10/10\n",
            "2521/2521 [==============================] - 15s 6ms/step - loss: 0.6067 - mae: 0.6067 - mse: 0.6620\n"
          ]
        }
      ]
    },
    {
      "cell_type": "code",
      "source": [
        "#from sklearn.metrics import mean_squared_error\n",
        "mae = mean_absolute_error(ncf_true, ncf_pred)\n",
        "rms = mean_squared_error(ncf_true, ncf_pred, squared=False)\n",
        "print(mae)\n",
        "print(rms)"
      ],
      "metadata": {
        "colab": {
          "base_uri": "https://localhost:8080/"
        },
        "id": "2sW887_g42Bv",
        "outputId": "7e666100-0b85-4f04-8127-dd9d27facfa0"
      },
      "execution_count": 15,
      "outputs": [
        {
          "output_type": "stream",
          "name": "stdout",
          "text": [
            "0.7041938564149409\n",
            "0.9266612747940155\n"
          ]
        }
      ]
    },
    {
      "cell_type": "code",
      "source": [
        "MLP_pred = ncf_pred"
      ],
      "metadata": {
        "id": "O_ahqlA_rgOZ"
      },
      "execution_count": 16,
      "outputs": []
    },
    {
      "cell_type": "markdown",
      "source": [
        "## COMPILE TABLE"
      ],
      "metadata": {
        "id": "s-PDtoV-oqZs"
      }
    },
    {
      "cell_type": "code",
      "source": [
        "#"
      ],
      "metadata": {
        "id": "chdftow9o1A8"
      },
      "execution_count": null,
      "outputs": []
    },
    {
      "cell_type": "code",
      "source": [
        "MLP_table = test.copy()\n",
        "GMF_table = test.copy()"
      ],
      "metadata": {
        "id": "zXkJ8GWzrrj2"
      },
      "execution_count": 18,
      "outputs": []
    },
    {
      "cell_type": "code",
      "source": [
        "print(MLP_table)"
      ],
      "metadata": {
        "id": "pd_RNdXRrJh7"
      },
      "execution_count": null,
      "outputs": []
    },
    {
      "cell_type": "code",
      "source": [
        "print(GMF_table)"
      ],
      "metadata": {
        "id": "-xiVvPDtt148"
      },
      "execution_count": null,
      "outputs": []
    },
    {
      "cell_type": "code",
      "source": [
        "MLP_table.insert(3, 'NCP_est', MLP_pred)"
      ],
      "metadata": {
        "id": "Ip6SzkyLqtMN"
      },
      "execution_count": 21,
      "outputs": []
    },
    {
      "cell_type": "code",
      "source": [
        "#print(MLP_table)"
      ],
      "metadata": {
        "id": "X7yrF_yqtVUd"
      },
      "execution_count": null,
      "outputs": []
    },
    {
      "cell_type": "code",
      "source": [
        "GMF_table.insert(3, 'GMF_est', GMF_pred)"
      ],
      "metadata": {
        "id": "TnaeMSLV5Da_"
      },
      "execution_count": 23,
      "outputs": []
    },
    {
      "cell_type": "code",
      "source": [
        "#print(GMF_table)"
      ],
      "metadata": {
        "id": "M6MInhkJ5JTY"
      },
      "execution_count": null,
      "outputs": []
    },
    {
      "cell_type": "code",
      "source": [
        "GMF_table.to_csv('GMF results.csv')"
      ],
      "metadata": {
        "id": "5mXyND7Kr4Zf"
      },
      "execution_count": 25,
      "outputs": []
    },
    {
      "cell_type": "code",
      "source": [
        "MLP_table.to_csv('NCF results.csv')"
      ],
      "metadata": {
        "id": "7A2nqslxr97z"
      },
      "execution_count": 26,
      "outputs": []
    },
    {
      "cell_type": "code",
      "source": [
        "# make table with both results\n",
        "compiled_results = MLP_table.copy()"
      ],
      "metadata": {
        "id": "AY2YQNIDyXRM"
      },
      "execution_count": 27,
      "outputs": []
    },
    {
      "cell_type": "code",
      "source": [
        "compiled_results.insert(3, 'GMF_est', GMF_pred)"
      ],
      "metadata": {
        "id": "WrRNAa7Q3GQQ"
      },
      "execution_count": 28,
      "outputs": []
    },
    {
      "cell_type": "code",
      "source": [
        "print(compiled_results)"
      ],
      "metadata": {
        "id": "68Ell8zT3L6P"
      },
      "execution_count": null,
      "outputs": []
    },
    {
      "cell_type": "code",
      "source": [
        "compiled_results.to_csv('NCF+GMF results.csv')"
      ],
      "metadata": {
        "id": "rCJ82cB83L9g"
      },
      "execution_count": 30,
      "outputs": []
    },
    {
      "cell_type": "markdown",
      "source": [
        "## 4 Measures"
      ],
      "metadata": {
        "id": "6mGIPqwjymzX"
      }
    },
    {
      "cell_type": "code",
      "source": [
        "from collections import defaultdict\n",
        "import math"
      ],
      "metadata": {
        "id": "mAQi2d7g0Kgg"
      },
      "execution_count": 31,
      "outputs": []
    },
    {
      "cell_type": "code",
      "source": [
        "#test_data_pred_list = test_data_pred_table.values.tolist()\n",
        "\n",
        "def recall_function(dataframe, top_ratings_from_user):\n",
        "    \n",
        "    #df = pd.DataFrame(dataframe)\n",
        "\n",
        "    temp = dataframe\n",
        "    \n",
        "    l = temp.values.tolist()\n",
        "    \n",
        "    prediction_data = defaultdict(list)\n",
        "    \n",
        "    #print(dataframe)\n",
        "\n",
        "    for user_id, movie_id, true_rating, predicted_rating, _ in l:\n",
        "        prediction_data[user_id].append([true_rating, predicted_rating])\n",
        "    \n",
        "    user_id_list = prediction_data.keys()\n",
        "    \n",
        "    recall_list = defaultdict(list)\n",
        "    \n",
        "    for user_id in user_id_list:\n",
        "        \n",
        "        total_items=0\n",
        "        total_rel_rec = 0\n",
        "                \n",
        "        prediction_data[user_id].sort(key=lambda x : x[0], reverse=True)\n",
        "        \n",
        "        rating_number = 0\n",
        "        \n",
        "        for rating_list in prediction_data[user_id]:\n",
        "            \n",
        "            if rating_number >= top_ratings_from_user:\n",
        "                break\n",
        "            else:\n",
        "                rating_number+=1\n",
        "\n",
        "            true_rating, predicted_rating = rating_list[0], rating_list[1]\n",
        "            \n",
        "            total_items+=1\n",
        "            \n",
        "            if true_rating >= 3.5:\n",
        "\n",
        "                if predicted_rating >= 3.5:\n",
        "                    total_rel_rec+=1\n",
        "            \n",
        "        if total_items != 0: \n",
        "            recall_list[user_id].append(total_rel_rec/total_items)\n",
        "        else:\n",
        "            recall_list[user_id].append(1)\n",
        "                \n",
        "    \n",
        "    return recall_list\n",
        "     "
      ],
      "metadata": {
        "id": "7p1Vm7Amyokj"
      },
      "execution_count": 32,
      "outputs": []
    },
    {
      "cell_type": "code",
      "source": [
        "#test_data_pred_list = test_data_pred_table.values.tolist()\n",
        "\n",
        "def precision_function(dataframe, top_ratings_from_user):\n",
        "    \n",
        "    df = pd.DataFrame(dataframe)\n",
        "\n",
        "    temp = df\n",
        "    \n",
        "    l = temp.values.tolist()\n",
        "    \n",
        "    prediction_data = defaultdict(list)\n",
        "    \n",
        "    for user_id, movie_id, true_rating, predicted_rating, _ in l:\n",
        "        prediction_data[user_id].append([true_rating, predicted_rating])\n",
        "    \n",
        "    user_id_list = prediction_data.keys()\n",
        "    \n",
        "    p_list = defaultdict(list)\n",
        "    \n",
        "    for user_id in user_id_list:\n",
        "        total_rec = 0\n",
        "        total_rel_rec = 0\n",
        "                \n",
        "        prediction_data[user_id].sort(key=lambda x : x[0], reverse=True)\n",
        "        \n",
        "        rating_number = 0\n",
        "        \n",
        "        for rating_list in prediction_data[user_id]:\n",
        "            \n",
        "            if rating_number >= top_ratings_from_user:\n",
        "                break\n",
        "            else:\n",
        "                rating_number+=1\n",
        "\n",
        "            true_rating, predicted_rating = rating_list[0], rating_list[1]\n",
        "            \n",
        "            if true_rating >= 3.5:\n",
        "                total_rec+= 1\n",
        "\n",
        "                if predicted_rating >= 3.5:\n",
        "                    total_rel_rec+=1\n",
        "            \n",
        "        if total_rec != 0: \n",
        "            p_list[user_id].append(total_rel_rec/total_rec)\n",
        "        else:\n",
        "            p_list[user_id].append(1)\n",
        "                \n",
        "    \n",
        "    return p_list\n",
        "     "
      ],
      "metadata": {
        "id": "eh9aXCscypRP"
      },
      "execution_count": 33,
      "outputs": []
    },
    {
      "cell_type": "code",
      "source": [
        "def get_average(measure_list):\n",
        "    \n",
        "    temp = measure_list\n",
        "    \n",
        "    total=0\n",
        "    \n",
        "    for val in temp.values():\n",
        "        total += val[0]\n",
        "    \n",
        "    return total/len(measure_list)\n",
        "    "
      ],
      "metadata": {
        "id": "cah3gZ9SzaCB"
      },
      "execution_count": 34,
      "outputs": []
    },
    {
      "cell_type": "code",
      "source": [
        "def f_measure(recall, precision):\n",
        "    return (2* recall * precision)/ (recall+precision)"
      ],
      "metadata": {
        "id": "Emthe1NVzW8-"
      },
      "execution_count": 35,
      "outputs": []
    },
    {
      "cell_type": "code",
      "source": [
        "def ndcg_function(prediction, top_k):\n",
        "    \n",
        "    def divide_sorted_and_original(predictions):\n",
        "    \n",
        "        # First map the predictions to each user.\n",
        "        top = defaultdict(list)\n",
        "        original_ratings = defaultdict(list)\n",
        "\n",
        "        i=0\n",
        "        length=len(predictions)\n",
        "\n",
        "        while i!=length:\n",
        "            user_id, movie_id, true_rating, predict_rating, _ = predictions.iloc[i]\n",
        "            top[user_id].append([movie_id, predict_rating])\n",
        "            original_ratings[user_id].append([movie_id, true_rating])\n",
        "\n",
        "            i+=1\n",
        "\n",
        "\n",
        "        for user_id, user_ratings in top.items():\n",
        "            #sort by user's rating\n",
        "            user_ratings.sort(key=lambda x: x[1], reverse=True)\n",
        "            top[user_id] = user_ratings\n",
        "\n",
        "        return top, original_ratings\n",
        "    \n",
        "    \n",
        "    def ndcg_k(scores):\n",
        "        \n",
        "        def dcg_k(scores):\n",
        "            score_list = zip(scores[1:], range(2, len(scores) + 1))\n",
        "            \n",
        "            total=0\n",
        "            \n",
        "            for score, index in score_list:\n",
        "                total+= score/math.log(index, 2)\n",
        "            \n",
        "            return scores[0] +total\n",
        "        \n",
        "        sort_score = sorted(scores,reverse=True)\n",
        "        \n",
        "        total_dcg = dcg_k(sort_score)\n",
        "        \n",
        "        if total_dcg == 0.0: return 0.0\n",
        "        \n",
        "        return dcg_k(scores)/total_dcg\n",
        "    \n",
        "    \n",
        "    def average_ndcg(ndcg_list):\n",
        "        total=0\n",
        "        for ndcg in ndcg_list.values():\n",
        "            total+=ndcg\n",
        "        return total/len(ndcg_list)\n",
        "    \n",
        "\n",
        "    top, b4_sort_ratings = divide_sorted_and_original(prediction)\n",
        "\n",
        "    ndcg_list = dict()\n",
        "    \n",
        "    \n",
        "    for user_id, user_ratings in top.items():\n",
        "        \n",
        "        flag=0\n",
        "        score_list = []\n",
        "        \n",
        "        for movie_id, est in user_ratings:\n",
        "            if flag> top_k:\n",
        "                break\n",
        "            else:\n",
        "                flag+=1\n",
        "                \n",
        "            movie_flag = 0\n",
        "            user_unsorted_ratings = b4_sort_ratings[user_id]\n",
        "            \n",
        "            for m_id, rating in user_unsorted_ratings:\n",
        "                \n",
        "                if movie_id == m_id:\n",
        "                    score_list.append(rating)\n",
        "                    movie_flag = 1\n",
        "                    break\n",
        "                    \n",
        "            if movie_flag==0:\n",
        "                score_list.append(0)\n",
        "                \n",
        "        ndcg_list[user_id] = ndcg_k(score_list)\n",
        "    final_ndcg = average_ndcg(ndcg_list)\n",
        "\n",
        "    return final_ndcg"
      ],
      "metadata": {
        "id": "62y0q80-yrfi"
      },
      "execution_count": 36,
      "outputs": []
    },
    {
      "cell_type": "code",
      "source": [
        "def create_4_measures_table(top_k):\n",
        "    \n",
        "    def compile_4_measures(pred, top_k):\n",
        "        #user_id starts from 1\n",
        "\n",
        "        #recall\n",
        "        recall_list = recall_function(pred, top_k) \n",
        "        #print(baseline_recall_list)\n",
        "        average_recall = get_average(recall_list)\n",
        "\n",
        "        #precision\n",
        "        p_list = precision_function(pred, top_k)\n",
        "        average_precision = get_average(p_list)\n",
        "\n",
        "        #print(average_baseline_precision)\n",
        "\n",
        "        #f-measure\n",
        "        f_m = f_measure(average_recall, average_precision)\n",
        "\n",
        "        # ndcg\n",
        "        #ndcg_list = ndcg_function(pred, top_k)\n",
        "        #ndcg = get_average_ndcg(ndcg_list)\n",
        "        final_ndcg = ndcg_function(pred, top_k)\n",
        "\n",
        "        return average_recall, average_precision, f_m, final_ndcg\n",
        "    \n",
        "    #length = len(pred_data_frame)\n",
        "    \n",
        "    final_df = pd.DataFrame(columns= ['Algorithm', 'Recall', 'Precision', 'F-Measure', 'NDCG'])\n",
        "    \n",
        "\n",
        "    gmf = GMF_table\n",
        "\n",
        "    ncf = MLP_table\n",
        "        \n",
        "    model_dict = {'Generalized Matrix Factorization': gmf, 'Neural Collaborative Filtering': ncf}\n",
        "    \n",
        "    list_order = ['Generalized Matrix Factorization', 'Neural Collaborative Filtering']\n",
        "    \n",
        "    for algor_str in list_order:\n",
        "        \n",
        "        recall, precision, f_m, ndcg= compile_4_measures(model_dict[algor_str], top_k)\n",
        "    \n",
        "        df = pd.DataFrame([[algor_str, recall, precision, f_m, ndcg]], \n",
        "                          columns= ['Algorithm', 'Recall', 'Precision', 'F-Measure', 'NDCG'])\n",
        "    \n",
        "        #print(df.head())\n",
        "        final_df = pd.concat([df, final_df], ignore_index=True)\n",
        "    \n",
        "    return final_df\n",
        "    "
      ],
      "metadata": {
        "id": "px4HdxVRytN_"
      },
      "execution_count": 37,
      "outputs": []
    },
    {
      "cell_type": "code",
      "source": [
        "top_k = 10\n",
        "ncf_4_measures_table = create_4_measures_table(top_k)"
      ],
      "metadata": {
        "id": "voJ88dQOyv6M"
      },
      "execution_count": 38,
      "outputs": []
    },
    {
      "cell_type": "code",
      "source": [
        "ncf_4_measures_table"
      ],
      "metadata": {
        "id": "XV4xIPUbzizp"
      },
      "execution_count": null,
      "outputs": []
    },
    {
      "cell_type": "code",
      "source": [
        "ncf_4_measures_table.to_csv('NCF 4 measures.csv')"
      ],
      "metadata": {
        "id": "5w6HVb5z1Cbu"
      },
      "execution_count": 40,
      "outputs": []
    },
    {
      "cell_type": "markdown",
      "source": [
        "## STORE MAE AND RSME"
      ],
      "metadata": {
        "id": "4Wk7Cdlu9_vg"
      }
    },
    {
      "cell_type": "code",
      "source": [
        "mae_rsme_list = [[0.7751338284519322,\n",
        "1.0949647014682058], [0.679384940734982,\n",
        "0.9022068009032483]]"
      ],
      "metadata": {
        "id": "Nnpt9rvC1QNJ"
      },
      "execution_count": 41,
      "outputs": []
    },
    {
      "cell_type": "code",
      "source": [
        "MAE_RSME_table = pd.DataFrame(columns= ['Algorithm', 'MAE', 'RSME'])\n",
        "algor_list = ['GMF', 'NCF']\n",
        "\n",
        "i=0\n",
        "for value_list in mae_rsme_list:\n",
        "  mae, rsme = value_list[0], value_list[1]\n",
        "  df = pd.DataFrame([[algor_list[i], mae, rsme]], \n",
        "                          columns= ['Algorithm', 'MAE', 'RSME'])\n",
        "  MAE_RSME_table = pd.concat([df, MAE_RSME_table], ignore_index=True)\n",
        "\n",
        "  i+=1\n",
        "\n",
        "print(MAE_RSME_table)\n",
        "    "
      ],
      "metadata": {
        "id": "JpseUj5f8pM3"
      },
      "execution_count": null,
      "outputs": []
    },
    {
      "cell_type": "code",
      "source": [
        "MAE_RSME_table.to_csv('NCF_MAE_RSME_table.csv')"
      ],
      "metadata": {
        "id": "s9Z3zk7O9xe1"
      },
      "execution_count": 43,
      "outputs": []
    },
    {
      "cell_type": "code",
      "source": [
        ""
      ],
      "metadata": {
        "id": "yl-WVv3h94VN"
      },
      "execution_count": null,
      "outputs": []
    }
  ]
}